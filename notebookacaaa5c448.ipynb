{
 "cells": [
  {
   "cell_type": "code",
   "execution_count": 1,
   "id": "ac58a92e",
   "metadata": {
    "execution": {
     "iopub.execute_input": "2025-03-30T14:31:53.793613Z",
     "iopub.status.busy": "2025-03-30T14:31:53.793184Z",
     "iopub.status.idle": "2025-03-30T14:37:11.315760Z",
     "shell.execute_reply": "2025-03-30T14:37:11.314553Z"
    },
    "papermill": {
     "duration": 317.527757,
     "end_time": "2025-03-30T14:37:11.317718",
     "exception": false,
     "start_time": "2025-03-30T14:31:53.789961",
     "status": "completed"
    },
    "tags": []
   },
   "outputs": [
    {
     "name": "stdout",
     "output_type": "stream",
     "text": [
      "Tải dữ liệu MNIST...\n"
     ]
    },
    {
     "name": "stderr",
     "output_type": "stream",
     "text": [
      "/usr/local/lib/python3.10/dist-packages/sklearn/datasets/_openml.py:968: FutureWarning: The default value of `parser` will change from `'liac-arff'` to `'auto'` in 1.4. You can set `parser='auto'` to silence this warning. Therefore, an `ImportError` will be raised from 1.4 if the dataset is dense and pandas is not installed. Note that the pandas parser may return different data types. See the Notes Section in fetch_openml's API doc for details.\n",
      "  warn(\n"
     ]
    },
    {
     "name": "stdout",
     "output_type": "stream",
     "text": [
      "Trích xuất đặc trưng HOG...\n",
      "Huấn luyện mô hình SVM...\n",
      "🎯 Độ chính xác của mô hình: 97.69%\n"
     ]
    },
    {
     "data": {
      "image/png": "[encoded data removed]",
      "text/plain": [
       "<Figure size 640x480 with 1 Axes>"
      ]
     },
     "metadata": {},
     "output_type": "display_data"
    },
    {
     "name": "stdout",
     "output_type": "stream",
     "text": [
      "🔢 Chữ số dự đoán: 3\n"
     ]
    }
   ],
   "source": [
    "import numpy as np\n",
    "import cv2\n",
    "import matplotlib.pyplot as plt\n",
    "from skimage.feature import hog\n",
    "from sklearn.svm import SVC\n",
    "from sklearn.model_selection import train_test_split\n",
    "from sklearn.datasets import fetch_openml\n",
    "from sklearn.metrics import accuracy_score\n",
    "\n",
    "# 1. Tải dữ liệu MNIST\n",
    "print(\"Tải dữ liệu MNIST...\")\n",
    "mnist = fetch_openml('mnist_784', version=1, as_frame=False)\n",
    "X, y = mnist.data, mnist.target\n",
    "\n",
    "# 2. Chuyển đổi dữ liệu về dạng ảnh 28x28\n",
    "X = X.reshape(-1, 28, 28).astype(np.uint8)\n",
    "\n",
    "# 3. Hàm trích xuất đặc trưng HOG\n",
    "def extract_hog_features(images):\n",
    "    features = []\n",
    "    for img in images:\n",
    "        img = cv2.resize(img, (28, 28))  # Đảm bảo kích thước 28x28\n",
    "        hog_features = hog(img, orientations=9, pixels_per_cell=(4,4), cells_per_block=(2,2), visualize=False)\n",
    "        features.append(hog_features)\n",
    "    return np.array(features)\n",
    "\n",
    "# 4. Trích xuất đặc trưng từ tập dữ liệu\n",
    "print(\"Trích xuất đặc trưng HOG...\")\n",
    "X_hog = extract_hog_features(X)\n",
    "\n",
    "# 5. Chia dữ liệu thành tập train và test\n",
    "X_train, X_test, y_train, y_test = train_test_split(X_hog, y, test_size=0.2, random_state=42)\n",
    "\n",
    "# 6. Huấn luyện mô hình SVM\n",
    "print(\"Huấn luyện mô hình SVM...\")\n",
    "model = SVC(kernel=\"linear\")\n",
    "model.fit(X_train, y_train)\n",
    "\n",
    "# 7. Đánh giá mô hình trên tập test\n",
    "y_pred = model.predict(X_test)\n",
    "accuracy = accuracy_score(y_test, y_pred)\n",
    "print(f\"🎯 Độ chính xác của mô hình: {accuracy * 100:.2f}%\")\n",
    "\n",
    "# 8. Hàm dự đoán chữ số từ ảnh mới\n",
    "def predict_digit(image_path):\n",
    "    img = cv2.imread(image_path, cv2.IMREAD_GRAYSCALE)  # Đọc ảnh\n",
    "    img = cv2.resize(img, (28, 28))  # Resize về 28x28 pixel\n",
    "    _, img = cv2.threshold(img, 0, 255, cv2.THRESH_BINARY_INV + cv2.THRESH_OTSU)  # Nhị phân hóa\n",
    "\n",
    "    # Trích xuất đặc trưng HOG\n",
    "    features = hog(img, orientations=9, pixels_per_cell=(4,4), cells_per_block=(2,2), visualize=False)\n",
    "    features = features.reshape(1, -1)\n",
    "\n",
    "    # Dự đoán bằng mô hình SVM\n",
    "    prediction = model.predict(features)\n",
    "    \n",
    "    # Hiển thị ảnh\n",
    "    plt.imshow(img, cmap=\"gray\")\n",
    "    plt.title(f\"Dự đoán: {prediction[0]}\")\n",
    "    plt.axis(\"off\")\n",
    "    plt.show()\n",
    "\n",
    "    return prediction[0]\n",
    "\n",
    "# 9. Kiểm thử với ảnh chữ số viết tay mới\n",
    "image_path = \"/kaggle/input/anhso9/images.jpg\"  # Đổi đường dẫn ảnh tùy theo ảnh chữ số của bạn\n",
    "predicted_digit = predict_digit(image_path)\n",
    "print(f\"🔢 Chữ số dự đoán: {predicted_digit}\")\n"
   ]
  }
 ],
 "metadata": {
  "kaggle": {
   "accelerator": "none",
   "dataSources": [
    {
     "datasetId": 7000355,
     "sourceId": 11210924,
     "sourceType": "datasetVersion"
    }
   ],
   "dockerImageVersionId": 30919,
   "isGpuEnabled": false,
   "isInternetEnabled": true,
   "language": "python",
   "sourceType": "notebook"
  },
  "kernelspec": {
   "display_name": "Python 3",
   "language": "python",
   "name": "python3"
  },
  "language_info": {
   "codemirror_mode": {
    "name": "ipython",
    "version": 3
   },
   "file_extension": ".py",
   "mimetype": "text/x-python",
   "name": "python",
   "nbconvert_exporter": "python",
   "pygments_lexer": "ipython3",
   "version": "3.10.12"
  },
  "papermill": {
   "default_parameters": {},
   "duration": 321.112015,
   "end_time": "2025-03-30T14:37:12.041045",
   "environment_variables": {},
   "exception": null,
   "input_path": "__notebook__.ipynb",
   "output_path": "__notebook__.ipynb",
   "parameters": {},
   "start_time": "2025-03-30T14:31:50.929030",
   "version": "2.6.0"
  }
 },
 "nbformat": 4,
 "nbformat_minor": 5
}
